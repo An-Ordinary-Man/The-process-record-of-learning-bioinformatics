{
 "cells": [
  {
   "cell_type": "markdown",
   "id": "0368b110-2df2-451b-9604-a9cefa6ff24c",
   "metadata": {},
   "source": [
    "# 群落生物多样性指数计算"
   ]
  },
  {
   "cell_type": "markdown",
   "id": "93aad0a0-30f5-4871-8a83-bdfeb766a572",
   "metadata": {},
   "source": [
    "总体目标：\n",
    "1. 计算物种多样性，比较分析各个多样性指数大小，对比各个群落多样性\n",
    "2. 分析使用不同变量（四度一量）计算的多样性值的差异；\n",
    "3. 分析各个地点的植物组成的生活型谱；\n",
    "4. 对比分析各地点群落结构和生产力的动态变化，以及物种多样性与生产力关系\n",
    "5. 撰写给定数据的群落多样性分析报告（使用图表）。\n",
    "\n",
    "说明：多样性指数包括α多样性（计算地点、月份），β多样性(计算一个地点月份间、地点间)，以及不同地点间群落相似性。\n",
    "\n",
    "结果包括：α多样性，β多样性，群落相似性，不同变量计算的多样性值/指数对比分析，动态变化，生活型谱，多样性与生产力关系\n",
    "\n",
    "\n",
    "任务拆解：\n",
    "- 提取数据，从原表格（六个群落，每个群落六个月，包含土壤数据）提取出每一个子表（暂时去除土壤数据后，某群落的某个月物种数据）\n",
    "- 计算多样性指数，对每一个子表，进行α多样性的计算\n",
    "- 计算多样性指数，对同一地点不同月份之间进行β多样性分析，计算群落相似度\n",
    "- 动态变化，将某一群落六个月内的多样性变化进行汇总，绘制一张图表分析物种多样性随月份的动态变化\n",
    "- 对每个群落进行生活型谱分析\n",
    "- 计算生物多样性和生产力之间的关系"
   ]
  },
  {
   "cell_type": "code",
   "execution_count": 3,
   "id": "b536d98b-f9ec-4782-9cbc-30787cdeee2a",
   "metadata": {
    "jupyter": {
     "source_hidden": true
    }
   },
   "outputs": [],
   "source": [
    "from openpyxl import load_workbook  \n",
    "import numpy as np \n",
    "import pandas as pd  "
   ]
  },
  {
   "cell_type": "code",
   "execution_count": 4,
   "id": "b69cd6d4-9ba9-49d6-9783-d065d349b6cc",
   "metadata": {
    "jupyter": {
     "source_hidden": true
    }
   },
   "outputs": [],
   "source": [
    "# pd.set_option('display.precision', 2)  \n",
    "\"\"\"\n",
    "伏笔，不要用上面这行\n",
    "因为就算设置了两位小数，也无法阻止pandas对于过大/过小的数进行科学计数法表示的行为\n",
    "可以直接针对dataframe/series中的数据进行格式化，将所有dataframe/series中的浮点数显示到小数点后两位\n",
    "两者都是全局设置，运行一次即可\n",
    "\"\"\"\n",
    "pd.set_option('display.float_format', '{:.2f}'.format)  # 强制所有浮点数显示为 2 位小数"
   ]
  },
  {
   "cell_type": "markdown",
   "id": "e308c785-1534-4787-b19d-f8b96ec50e9b",
   "metadata": {},
   "source": [
    "### 提取数据\n",
    "定义一个函数，实现以下目标： \n",
    "- 分割每一个子表，用子表的名字查找\n",
    "- 去除土壤数据\n",
    "- 识别“群落”并且进一步把子表按月拆分，最终得到一个字典，键是月份，值是月份对应的dataframe"
   ]
  },
  {
   "cell_type": "code",
   "execution_count": 6,
   "id": "8aabedb1-9989-44b1-8597-2b53fcef4c55",
   "metadata": {
    "jupyter": {
     "source_hidden": true
    }
   },
   "outputs": [],
   "source": [
    "def extract_monthly_species_data(file_path, group_name):  \n",
    "    \"\"\"  \n",
    "    提取指定群落的所有月份物种数据  \n",
    "    参数：  \n",
    "        file_path: Excel文件路径  \n",
    "        group_name: 群落名称（\"刘武井群落\"、\"香山台地群落\"等）  \n",
    "    返回：  \n",
    "        monthly_data: 字典，键为月份，值为对应的物种数据DataFrame  \n",
    "    \"\"\"  \n",
    "    monthly_data = {}  \n",
    "\n",
    "    wb = load_workbook(filename=file_path, read_only=True)  \n",
    "    try:  \n",
    "        # sheetnames 获取工作簿中所有工作表的名称，并储存在 sheets 列表中  \n",
    "        sheets = wb.sheetnames  \n",
    "\n",
    "        # 查找包含group_name的子表  \n",
    "        sheet_name = [s for s in sheets if group_name in s]  \n",
    "        if not sheet_name:  \n",
    "            raise ValueError(f\"未找到名为'{group_name}'的子表!\")  \n",
    "        ws = wb[sheet_name[0]]    \n",
    "        print(sheet_name)\n",
    "        \n",
    "        current_month = None  \n",
    "        header = []  \n",
    "        species_rows = []  \n",
    "        \n",
    "        for row_idx, row in enumerate(ws.iter_rows(values_only=True), 1):  \n",
    "            # 检测月份标题行（如：\"5月\"）  \n",
    "            if row[0] and \"月\" in str(row[0]):  \n",
    "                # 保存前一个月份的数据（如果存在）  \n",
    "                if current_month and species_rows:  \n",
    "                    df = pd.DataFrame(species_rows, columns=header)  \n",
    "                    df.set_index(\"物种名称\", inplace=True)  \n",
    "                    monthly_data[current_month] = df  \n",
    "                    species_rows = []  \n",
    "                \n",
    "                current_month = row[0].strip()  \n",
    "                header = []  \n",
    "            \n",
    "            # 定位表头行  \n",
    "            if current_month and not header:  \n",
    "                if \"物种名称\" in row:  \n",
    "                    header = [cell for cell in row[:6] if cell is not None]  \n",
    "            \n",
    "            # 收集物种数据行，并确保不重复表头  \n",
    "            if current_month and header and row_idx > 2 and any(row[:6]):  \n",
    "                # 添加条件排除表头重复  \n",
    "                if row[0] not in header:  # 确保不加入表头  \n",
    "                    species_rows.append(row[:6])  \n",
    "                    \n",
    "        # 处理最后一个月份的数据  \n",
    "        if current_month and species_rows:  \n",
    "            df = pd.DataFrame(species_rows, columns=header)  \n",
    "            df.set_index(\"物种名称\", inplace=True)  \n",
    "            monthly_data[current_month] = df  \n",
    "    \n",
    "    finally:  \n",
    "        wb.close()  \n",
    "    \n",
    "    return monthly_data  \n",
    "\n"
   ]
  },
  {
   "cell_type": "markdown",
   "id": "71a54a1d-97d6-4906-a7dc-73ef8d39f23d",
   "metadata": {},
   "source": [
    "### 文件路径"
   ]
  },
  {
   "cell_type": "code",
   "execution_count": 8,
   "id": "9349c62b-0e45-43f0-9062-af84db9b80a7",
   "metadata": {
    "jupyter": {
     "source_hidden": true
    }
   },
   "outputs": [],
   "source": [
    "file_path = \"D:\\\\John\\\\生态学\\\\生物多样性指数计算\\\\第八章多样性指数计算作业数据.xlsx\"  "
   ]
  },
  {
   "cell_type": "markdown",
   "id": "e25e2a04-ac12-4a9c-bc0f-78cf056e1d0c",
   "metadata": {},
   "source": [
    "### 将每一个dataframe赋值为单独变量进行运算"
   ]
  },
  {
   "cell_type": "code",
   "execution_count": 10,
   "id": "c49dcdc2-cc64-498f-860d-0b48e313003d",
   "metadata": {
    "jupyter": {
     "source_hidden": true
    }
   },
   "outputs": [
    {
     "name": "stdout",
     "output_type": "stream",
     "text": [
      "['刘武井群落']\n"
     ]
    },
    {
     "data": {
      "text/html": [
       "<div>\n",
       "<style scoped>\n",
       "    .dataframe tbody tr th:only-of-type {\n",
       "        vertical-align: middle;\n",
       "    }\n",
       "\n",
       "    .dataframe tbody tr th {\n",
       "        vertical-align: top;\n",
       "    }\n",
       "\n",
       "    .dataframe thead th {\n",
       "        text-align: right;\n",
       "    }\n",
       "</style>\n",
       "<table border=\"1\" class=\"dataframe\">\n",
       "  <thead>\n",
       "    <tr style=\"text-align: right;\">\n",
       "      <th></th>\n",
       "      <th>高度(cm)</th>\n",
       "      <th>频度(个)</th>\n",
       "      <th>多度(个/m2)</th>\n",
       "      <th>盖度(%)</th>\n",
       "      <th>干重(g/m2)</th>\n",
       "    </tr>\n",
       "    <tr>\n",
       "      <th>物种名称</th>\n",
       "      <th></th>\n",
       "      <th></th>\n",
       "      <th></th>\n",
       "      <th></th>\n",
       "      <th></th>\n",
       "    </tr>\n",
       "  </thead>\n",
       "  <tbody>\n",
       "    <tr>\n",
       "      <th>短花针茅</th>\n",
       "      <td>5.78</td>\n",
       "      <td>10</td>\n",
       "      <td>37.33</td>\n",
       "      <td>11.80</td>\n",
       "      <td>6.93</td>\n",
       "    </tr>\n",
       "    <tr>\n",
       "      <th>梯牧草</th>\n",
       "      <td>2.73</td>\n",
       "      <td>8</td>\n",
       "      <td>29.33</td>\n",
       "      <td>7.00</td>\n",
       "      <td>4.33</td>\n",
       "    </tr>\n",
       "    <tr>\n",
       "      <th>蚓果芥</th>\n",
       "      <td>4.12</td>\n",
       "      <td>9</td>\n",
       "      <td>21.33</td>\n",
       "      <td>0.55</td>\n",
       "      <td>1.30</td>\n",
       "    </tr>\n",
       "    <tr>\n",
       "      <th>柠条锦鸡儿</th>\n",
       "      <td>62.00</td>\n",
       "      <td>0</td>\n",
       "      <td>0.67</td>\n",
       "      <td>4.10</td>\n",
       "      <td>0.00</td>\n",
       "    </tr>\n",
       "    <tr>\n",
       "      <th>小叶锦鸡儿</th>\n",
       "      <td>45.38</td>\n",
       "      <td>1</td>\n",
       "      <td>0.00</td>\n",
       "      <td>0.00</td>\n",
       "      <td>0.00</td>\n",
       "    </tr>\n",
       "  </tbody>\n",
       "</table>\n",
       "</div>"
      ],
      "text/plain": [
       "       高度(cm)  频度(个)  多度(个/m2)  盖度(%)  干重(g/m2)\n",
       "物种名称                                           \n",
       "短花针茅     5.78     10     37.33  11.80      6.93\n",
       "梯牧草      2.73      8     29.33   7.00      4.33\n",
       "蚓果芥      4.12      9     21.33   0.55      1.30\n",
       "柠条锦鸡儿   62.00      0      0.67   4.10      0.00\n",
       "小叶锦鸡儿   45.38      1      0.00   0.00      0.00"
      ]
     },
     "execution_count": 10,
     "metadata": {},
     "output_type": "execute_result"
    }
   ],
   "source": [
    "lwj_monthly_species = extract_monthly_species_data(file_path, \"刘武井群落\")\n",
    "# pd.set_option('display.precision', 2)\n",
    "\"\"\"\n",
    "伏笔回收，在这个块换pd.set_option('display.precision', 2)试试看\n",
    "\"\"\"\n",
    "lwj_5, lwj_6, lwj_7, lwj_8, lwj_9, lwj_10 = [ \n",
    "    lwj_monthly_species['刘武井群落5月'], \n",
    "    lwj_monthly_species['刘武井群落6月'], \n",
    "    lwj_monthly_species['刘武井群落7月'], \n",
    "    lwj_monthly_species['刘武井群落8月'], \n",
    "    lwj_monthly_species['刘武井群落9月'], \n",
    "    lwj_monthly_species['刘武井群落10月']\n",
    "]\n",
    "lwj_5.head()"
   ]
  },
  {
   "cell_type": "code",
   "execution_count": 11,
   "id": "be8a5cc9-cec3-4d3a-b2ba-44352647aecb",
   "metadata": {
    "jupyter": {
     "source_hidden": true
    }
   },
   "outputs": [
    {
     "name": "stdout",
     "output_type": "stream",
     "text": [
      "['香山台地群落']\n"
     ]
    },
    {
     "data": {
      "text/html": [
       "<div>\n",
       "<style scoped>\n",
       "    .dataframe tbody tr th:only-of-type {\n",
       "        vertical-align: middle;\n",
       "    }\n",
       "\n",
       "    .dataframe tbody tr th {\n",
       "        vertical-align: top;\n",
       "    }\n",
       "\n",
       "    .dataframe thead th {\n",
       "        text-align: right;\n",
       "    }\n",
       "</style>\n",
       "<table border=\"1\" class=\"dataframe\">\n",
       "  <thead>\n",
       "    <tr style=\"text-align: right;\">\n",
       "      <th></th>\n",
       "      <th>高度(cm)</th>\n",
       "      <th>频度(个)</th>\n",
       "      <th>多度(个/m2)</th>\n",
       "      <th>盖度(%)</th>\n",
       "      <th>干重(g/m2)</th>\n",
       "    </tr>\n",
       "    <tr>\n",
       "      <th>物种名称</th>\n",
       "      <th></th>\n",
       "      <th></th>\n",
       "      <th></th>\n",
       "      <th></th>\n",
       "      <th></th>\n",
       "    </tr>\n",
       "  </thead>\n",
       "  <tbody>\n",
       "    <tr>\n",
       "      <th>老瓜头</th>\n",
       "      <td>32.60</td>\n",
       "      <td>2</td>\n",
       "      <td>2.67</td>\n",
       "      <td>18.67</td>\n",
       "      <td>31.02</td>\n",
       "    </tr>\n",
       "    <tr>\n",
       "      <th>冷蒿</th>\n",
       "      <td>2.50</td>\n",
       "      <td>10</td>\n",
       "      <td>37.33</td>\n",
       "      <td>4.63</td>\n",
       "      <td>3.42</td>\n",
       "    </tr>\n",
       "    <tr>\n",
       "      <th>糙隐子草</th>\n",
       "      <td>3.76</td>\n",
       "      <td>4</td>\n",
       "      <td>13.33</td>\n",
       "      <td>0.93</td>\n",
       "      <td>1.68</td>\n",
       "    </tr>\n",
       "    <tr>\n",
       "      <th>荒漠锦鸡儿</th>\n",
       "      <td>28.70</td>\n",
       "      <td>3</td>\n",
       "      <td>0.00</td>\n",
       "      <td>0.00</td>\n",
       "      <td>0.00</td>\n",
       "    </tr>\n",
       "    <tr>\n",
       "      <th>刺叶柄棘豆</th>\n",
       "      <td>9.08</td>\n",
       "      <td>2</td>\n",
       "      <td>10.67</td>\n",
       "      <td>0.93</td>\n",
       "      <td>1.20</td>\n",
       "    </tr>\n",
       "  </tbody>\n",
       "</table>\n",
       "</div>"
      ],
      "text/plain": [
       "       高度(cm)  频度(个)  多度(个/m2)  盖度(%)  干重(g/m2)\n",
       "物种名称                                           \n",
       "老瓜头     32.60      2      2.67  18.67     31.02\n",
       "冷蒿       2.50     10     37.33   4.63      3.42\n",
       "糙隐子草     3.76      4     13.33   0.93      1.68\n",
       "荒漠锦鸡儿   28.70      3      0.00   0.00      0.00\n",
       "刺叶柄棘豆    9.08      2     10.67   0.93      1.20"
      ]
     },
     "execution_count": 11,
     "metadata": {},
     "output_type": "execute_result"
    }
   ],
   "source": [
    "xstd_monthly_species = extract_monthly_species_data(file_path, \"香山台地群落\")\n",
    "xstd_5, xstd_6, xstd_7, xstd_8, xstd_9, xstd_10 = [ \n",
    "    xstd_monthly_species['香山台地群落5月'], \n",
    "    xstd_monthly_species['香山台地群落6月'], \n",
    "    xstd_monthly_species['香山台地群落7月'], \n",
    "    xstd_monthly_species['香山台地群落8月'], \n",
    "    xstd_monthly_species['香山台地群落9月'], \n",
    "    xstd_monthly_species['香山台地群落10月']\n",
    "]\n",
    "xstd_5.head()"
   ]
  },
  {
   "cell_type": "code",
   "execution_count": 12,
   "id": "8d5932d5-3ab7-40bc-aaad-27e8e74964ca",
   "metadata": {
    "jupyter": {
     "source_hidden": true
    }
   },
   "outputs": [
    {
     "name": "stdout",
     "output_type": "stream",
     "text": [
      "['天井山群落']\n"
     ]
    },
    {
     "data": {
      "text/html": [
       "<div>\n",
       "<style scoped>\n",
       "    .dataframe tbody tr th:only-of-type {\n",
       "        vertical-align: middle;\n",
       "    }\n",
       "\n",
       "    .dataframe tbody tr th {\n",
       "        vertical-align: top;\n",
       "    }\n",
       "\n",
       "    .dataframe thead th {\n",
       "        text-align: right;\n",
       "    }\n",
       "</style>\n",
       "<table border=\"1\" class=\"dataframe\">\n",
       "  <thead>\n",
       "    <tr style=\"text-align: right;\">\n",
       "      <th></th>\n",
       "      <th>高度(cm)</th>\n",
       "      <th>频度(个)</th>\n",
       "      <th>多度(个/m2)</th>\n",
       "      <th>盖度(%)</th>\n",
       "      <th>干重(g/m2)</th>\n",
       "    </tr>\n",
       "    <tr>\n",
       "      <th>物种名称</th>\n",
       "      <th></th>\n",
       "      <th></th>\n",
       "      <th></th>\n",
       "      <th></th>\n",
       "      <th></th>\n",
       "    </tr>\n",
       "  </thead>\n",
       "  <tbody>\n",
       "    <tr>\n",
       "      <th>短花针茅</th>\n",
       "      <td>6.83</td>\n",
       "      <td>2</td>\n",
       "      <td>17</td>\n",
       "      <td>6.06</td>\n",
       "      <td>9.38</td>\n",
       "    </tr>\n",
       "    <tr>\n",
       "      <th>山杏</th>\n",
       "      <td>120.00</td>\n",
       "      <td>1</td>\n",
       "      <td>0</td>\n",
       "      <td>9.00</td>\n",
       "      <td>0.00</td>\n",
       "    </tr>\n",
       "    <tr>\n",
       "      <th>柠条锦鸡儿</th>\n",
       "      <td>80.00</td>\n",
       "      <td>1</td>\n",
       "      <td>2</td>\n",
       "      <td>10.00</td>\n",
       "      <td>0.00</td>\n",
       "    </tr>\n",
       "    <tr>\n",
       "      <th>梯牧草</th>\n",
       "      <td>9.32</td>\n",
       "      <td>9</td>\n",
       "      <td>11</td>\n",
       "      <td>3.50</td>\n",
       "      <td>3.60</td>\n",
       "    </tr>\n",
       "    <tr>\n",
       "      <th>糙隐子草</th>\n",
       "      <td>2.97</td>\n",
       "      <td>7</td>\n",
       "      <td>9</td>\n",
       "      <td>1.00</td>\n",
       "      <td>0.00</td>\n",
       "    </tr>\n",
       "  </tbody>\n",
       "</table>\n",
       "</div>"
      ],
      "text/plain": [
       "       高度(cm)  频度(个)  多度(个/m2)  盖度(%)  干重(g/m2)\n",
       "物种名称                                           \n",
       "短花针茅     6.83      2        17   6.06      9.38\n",
       "山杏     120.00      1         0   9.00      0.00\n",
       "柠条锦鸡儿   80.00      1         2  10.00      0.00\n",
       "梯牧草      9.32      9        11   3.50      3.60\n",
       "糙隐子草     2.97      7         9   1.00      0.00"
      ]
     },
     "execution_count": 12,
     "metadata": {},
     "output_type": "execute_result"
    }
   ],
   "source": [
    "tjs_monthly_species = extract_monthly_species_data(file_path, \"天井山群落\")\n",
    "tjs_5, tjs_6, tjs_7, tjs_8, tjs_9, tjs_10 = [ \n",
    "    tjs_monthly_species['天井山群落5月'], \n",
    "    tjs_monthly_species['天井山群落6月'], \n",
    "    tjs_monthly_species['天井山群落7月'], \n",
    "    tjs_monthly_species['天井山群落8月'], \n",
    "    tjs_monthly_species['天井山群落9月'], \n",
    "    tjs_monthly_species['天井山群落10月']\n",
    "]\n",
    "tjs_5.head()"
   ]
  },
  {
   "cell_type": "code",
   "execution_count": 13,
   "id": "ffee42dc-6639-4131-85e3-b2b11d8e5cf1",
   "metadata": {
    "jupyter": {
     "source_hidden": true
    }
   },
   "outputs": [
    {
     "name": "stdout",
     "output_type": "stream",
     "text": [
      "['同场堡群落']\n"
     ]
    },
    {
     "data": {
      "text/html": [
       "<div>\n",
       "<style scoped>\n",
       "    .dataframe tbody tr th:only-of-type {\n",
       "        vertical-align: middle;\n",
       "    }\n",
       "\n",
       "    .dataframe tbody tr th {\n",
       "        vertical-align: top;\n",
       "    }\n",
       "\n",
       "    .dataframe thead th {\n",
       "        text-align: right;\n",
       "    }\n",
       "</style>\n",
       "<table border=\"1\" class=\"dataframe\">\n",
       "  <thead>\n",
       "    <tr style=\"text-align: right;\">\n",
       "      <th></th>\n",
       "      <th>高度(cm)</th>\n",
       "      <th>频度(个)</th>\n",
       "      <th>多度(个/m2)</th>\n",
       "      <th>盖度(%)</th>\n",
       "      <th>干重(g/m2)</th>\n",
       "    </tr>\n",
       "    <tr>\n",
       "      <th>物种名称</th>\n",
       "      <th></th>\n",
       "      <th></th>\n",
       "      <th></th>\n",
       "      <th></th>\n",
       "      <th></th>\n",
       "    </tr>\n",
       "  </thead>\n",
       "  <tbody>\n",
       "    <tr>\n",
       "      <th>短花针茅</th>\n",
       "      <td>6.79</td>\n",
       "      <td>7</td>\n",
       "      <td>68</td>\n",
       "      <td>20.00</td>\n",
       "      <td>13.44</td>\n",
       "    </tr>\n",
       "    <tr>\n",
       "      <th>中亚苔草</th>\n",
       "      <td>4.78</td>\n",
       "      <td>2</td>\n",
       "      <td>128</td>\n",
       "      <td>4.00</td>\n",
       "      <td>1.96</td>\n",
       "    </tr>\n",
       "    <tr>\n",
       "      <th>油蒿</th>\n",
       "      <td>1.97</td>\n",
       "      <td>7</td>\n",
       "      <td>88</td>\n",
       "      <td>6.00</td>\n",
       "      <td>4.33</td>\n",
       "    </tr>\n",
       "    <tr>\n",
       "      <th>糙隐子草</th>\n",
       "      <td>1.88</td>\n",
       "      <td>8</td>\n",
       "      <td>16</td>\n",
       "      <td>1.52</td>\n",
       "      <td>0.72</td>\n",
       "    </tr>\n",
       "    <tr>\n",
       "      <th>冷蒿</th>\n",
       "      <td>2.22</td>\n",
       "      <td>2</td>\n",
       "      <td>4</td>\n",
       "      <td>4.00</td>\n",
       "      <td>1.05</td>\n",
       "    </tr>\n",
       "  </tbody>\n",
       "</table>\n",
       "</div>"
      ],
      "text/plain": [
       "      高度(cm)  频度(个)  多度(个/m2)  盖度(%)  干重(g/m2)\n",
       "物种名称                                          \n",
       "短花针茅    6.79      7        68  20.00     13.44\n",
       "中亚苔草    4.78      2       128   4.00      1.96\n",
       "油蒿      1.97      7        88   6.00      4.33\n",
       "糙隐子草    1.88      8        16   1.52      0.72\n",
       "冷蒿      2.22      2         4   4.00      1.05"
      ]
     },
     "execution_count": 13,
     "metadata": {},
     "output_type": "execute_result"
    }
   ],
   "source": [
    "tcb_monthly_species = extract_monthly_species_data(file_path, \"同场堡群落\")\n",
    "tcb_5, tcb_6, tcb_7, tcb_8, tcb_9, tcb_10 = [ \n",
    "    tcb_monthly_species['同场堡群落5月'], \n",
    "    tcb_monthly_species['同场堡群落6月'], \n",
    "    tcb_monthly_species['同场堡群落7月'], \n",
    "    tcb_monthly_species['同场堡群落8月'], \n",
    "    tcb_monthly_species['同场堡群落9月'], \n",
    "    tcb_monthly_species['同场堡群落10月']\n",
    "]\n",
    "tcb_5.head()"
   ]
  },
  {
   "cell_type": "code",
   "execution_count": 14,
   "id": "fb826617-5f28-42be-a9a8-8fe470722ecc",
   "metadata": {
    "jupyter": {
     "source_hidden": true
    }
   },
   "outputs": [
    {
     "name": "stdout",
     "output_type": "stream",
     "text": [
      "['月牙湾群落']\n"
     ]
    },
    {
     "data": {
      "text/html": [
       "<div>\n",
       "<style scoped>\n",
       "    .dataframe tbody tr th:only-of-type {\n",
       "        vertical-align: middle;\n",
       "    }\n",
       "\n",
       "    .dataframe tbody tr th {\n",
       "        vertical-align: top;\n",
       "    }\n",
       "\n",
       "    .dataframe thead th {\n",
       "        text-align: right;\n",
       "    }\n",
       "</style>\n",
       "<table border=\"1\" class=\"dataframe\">\n",
       "  <thead>\n",
       "    <tr style=\"text-align: right;\">\n",
       "      <th></th>\n",
       "      <th>高度(cm)</th>\n",
       "      <th>频度(个)</th>\n",
       "      <th>多度(个/m2)</th>\n",
       "      <th>盖度(%)</th>\n",
       "      <th>干重(g/m2)</th>\n",
       "    </tr>\n",
       "    <tr>\n",
       "      <th>物种名称</th>\n",
       "      <th></th>\n",
       "      <th></th>\n",
       "      <th></th>\n",
       "      <th></th>\n",
       "      <th></th>\n",
       "    </tr>\n",
       "  </thead>\n",
       "  <tbody>\n",
       "    <tr>\n",
       "      <th>短花针茅</th>\n",
       "      <td>13.67</td>\n",
       "      <td>9</td>\n",
       "      <td>44</td>\n",
       "      <td>28.00</td>\n",
       "      <td>25.91</td>\n",
       "    </tr>\n",
       "    <tr>\n",
       "      <th>糙隐子草</th>\n",
       "      <td>0.00</td>\n",
       "      <td>7</td>\n",
       "      <td>52</td>\n",
       "      <td>12.00</td>\n",
       "      <td>2.84</td>\n",
       "    </tr>\n",
       "    <tr>\n",
       "      <th>川青锦鸡儿</th>\n",
       "      <td>6.35</td>\n",
       "      <td>3</td>\n",
       "      <td>4</td>\n",
       "      <td>4.00</td>\n",
       "      <td>11.51</td>\n",
       "    </tr>\n",
       "    <tr>\n",
       "      <th>细叶车前</th>\n",
       "      <td>3.08</td>\n",
       "      <td>5</td>\n",
       "      <td>28</td>\n",
       "      <td>0.50</td>\n",
       "      <td>5.28</td>\n",
       "    </tr>\n",
       "    <tr>\n",
       "      <th>阿尔泰狗哇花</th>\n",
       "      <td>4.10</td>\n",
       "      <td>1</td>\n",
       "      <td>4</td>\n",
       "      <td>0.50</td>\n",
       "      <td>1.64</td>\n",
       "    </tr>\n",
       "  </tbody>\n",
       "</table>\n",
       "</div>"
      ],
      "text/plain": [
       "        高度(cm)  频度(个)  多度(个/m2)  盖度(%)  干重(g/m2)\n",
       "物种名称                                            \n",
       "短花针茅     13.67      9        44  28.00     25.91\n",
       "糙隐子草      0.00      7        52  12.00      2.84\n",
       "川青锦鸡儿     6.35      3         4   4.00     11.51\n",
       "细叶车前      3.08      5        28   0.50      5.28\n",
       "阿尔泰狗哇花    4.10      1         4   0.50      1.64"
      ]
     },
     "execution_count": 14,
     "metadata": {},
     "output_type": "execute_result"
    }
   ],
   "source": [
    "yyw_monthly_species = extract_monthly_species_data(file_path, \"月牙湾群落\")\n",
    "yyw_5, yyw_6, yyw_7, yyw_8, yyw_9, yyw_10 = [ \n",
    "    yyw_monthly_species['月牙湾群落5月'], \n",
    "    yyw_monthly_species['月牙湾群落6月'], \n",
    "    yyw_monthly_species['月牙湾群落7月'], \n",
    "    yyw_monthly_species['月牙湾群落8月'], \n",
    "    yyw_monthly_species['月牙湾群落9月'], \n",
    "    yyw_monthly_species['月牙湾群落10月']\n",
    "]\n",
    "yyw_5.head()"
   ]
  },
  {
   "cell_type": "code",
   "execution_count": 15,
   "id": "d0821e2d-f2ec-4814-9da5-426993c7c4b9",
   "metadata": {
    "jupyter": {
     "source_hidden": true
    }
   },
   "outputs": [
    {
     "name": "stdout",
     "output_type": "stream",
     "text": [
      "['朱家圈群落']\n"
     ]
    },
    {
     "data": {
      "text/html": [
       "<div>\n",
       "<style scoped>\n",
       "    .dataframe tbody tr th:only-of-type {\n",
       "        vertical-align: middle;\n",
       "    }\n",
       "\n",
       "    .dataframe tbody tr th {\n",
       "        vertical-align: top;\n",
       "    }\n",
       "\n",
       "    .dataframe thead th {\n",
       "        text-align: right;\n",
       "    }\n",
       "</style>\n",
       "<table border=\"1\" class=\"dataframe\">\n",
       "  <thead>\n",
       "    <tr style=\"text-align: right;\">\n",
       "      <th></th>\n",
       "      <th>高度(cm)</th>\n",
       "      <th>频度(个)</th>\n",
       "      <th>多度(个/m2)</th>\n",
       "      <th>盖度(%)</th>\n",
       "      <th>干重(g/m2)</th>\n",
       "    </tr>\n",
       "    <tr>\n",
       "      <th>物种名称</th>\n",
       "      <th></th>\n",
       "      <th></th>\n",
       "      <th></th>\n",
       "      <th></th>\n",
       "      <th></th>\n",
       "    </tr>\n",
       "  </thead>\n",
       "  <tbody>\n",
       "    <tr>\n",
       "      <th>长芒草</th>\n",
       "      <td>10.10</td>\n",
       "      <td>10</td>\n",
       "      <td>96</td>\n",
       "      <td>28.00</td>\n",
       "      <td>18.63</td>\n",
       "    </tr>\n",
       "    <tr>\n",
       "      <th>冰草</th>\n",
       "      <td>7.47</td>\n",
       "      <td>3</td>\n",
       "      <td>12</td>\n",
       "      <td>2.80</td>\n",
       "      <td>1.29</td>\n",
       "    </tr>\n",
       "    <tr>\n",
       "      <th>细颈黄芪</th>\n",
       "      <td>3.02</td>\n",
       "      <td>7</td>\n",
       "      <td>16</td>\n",
       "      <td>0.88</td>\n",
       "      <td>1.77</td>\n",
       "    </tr>\n",
       "    <tr>\n",
       "      <th>蚓果芥</th>\n",
       "      <td>4.47</td>\n",
       "      <td>3</td>\n",
       "      <td>8</td>\n",
       "      <td>2.78</td>\n",
       "      <td>0.60</td>\n",
       "    </tr>\n",
       "    <tr>\n",
       "      <th>阿尔泰狗哇花</th>\n",
       "      <td>7.77</td>\n",
       "      <td>2</td>\n",
       "      <td>4</td>\n",
       "      <td>0.50</td>\n",
       "      <td>0.34</td>\n",
       "    </tr>\n",
       "  </tbody>\n",
       "</table>\n",
       "</div>"
      ],
      "text/plain": [
       "        高度(cm)  频度(个)  多度(个/m2)  盖度(%)  干重(g/m2)\n",
       "物种名称                                            \n",
       "长芒草      10.10     10        96  28.00     18.63\n",
       "冰草        7.47      3        12   2.80      1.29\n",
       "细颈黄芪      3.02      7        16   0.88      1.77\n",
       "蚓果芥       4.47      3         8   2.78      0.60\n",
       "阿尔泰狗哇花    7.77      2         4   0.50      0.34"
      ]
     },
     "execution_count": 15,
     "metadata": {},
     "output_type": "execute_result"
    }
   ],
   "source": [
    "zjq_monthly_species = extract_monthly_species_data(file_path, \"朱家圈群落\")\n",
    "zjq_5, zjq_6, zjq_7, zjq_8, zjq_9, zjq_10 = [ \n",
    "    zjq_monthly_species['朱家圈群落5月'], \n",
    "    zjq_monthly_species['朱家圈群落6月'], \n",
    "    zjq_monthly_species['朱家圈群落7月'], \n",
    "    zjq_monthly_species['朱家圈群落8月'], \n",
    "    zjq_monthly_species['朱家圈群落9月'], \n",
    "    zjq_monthly_species['朱家圈群落10月']\n",
    "]\n",
    "zjq_5.head()"
   ]
  },
  {
   "cell_type": "markdown",
   "id": "bc1fe44f-4f5a-4822-8c96-859e369b8337",
   "metadata": {},
   "source": [
    "### 至此，我们已经得到了每一个种群每一个月的物种数据\n",
    "先从α多样性开始看看我们要算什么\n",
    "\n",
    "物种丰富度：\n",
    "$$ \n",
    "S = 群落中多度大于零的物种数量 \n",
    "$$\n",
    "相对多度：\n",
    "$$ \n",
    "p_i = \\frac{n_i}{N}, \\quad \\text{其中 } N = \\sum_{j=1}^{S} n_j \n",
    "$$  \n",
    "Shannon-Wiener指数：\n",
    "$$ \n",
    "H' = -\\sum_{i=1}^{S} p_i \\ln p_i \n",
    "$$\n",
    "Simpson指数：\n",
    "$$ \n",
    "1 - D = 1 - \\sum_{i=1}^{S} p_i^2\n",
    "$$ \n",
    "Pielou均匀度指数： \n",
    "$$\n",
    "J' = \\begin{cases}\n",
    "\\displaystyle \\frac{H'}{\\ln S} & \\text{当 } S > 1, \\\\\n",
    "0 & \\text{当 } S = 1 \\text{ 或 } S = 0.\n",
    "\\end{cases}\n",
    "$$\n",
    "\n",
    "定义一个函数： \n",
    "- 首先传给它一个dataframe，因为后续还要根据“四度一量”中其他参数计算，所以还要传一个计算依据参数，就管它叫according_to，里面放列名\n",
    "- 接着计算物种丰富度、相对多读、香农指数、辛普森指数、均匀度指数\n",
    "- Pielou均匀度指数出现了对数运算，警惕除零错误"
   ]
  },
  {
   "cell_type": "code",
   "execution_count": 17,
   "id": "7af45198-48e4-4872-a172-7efe3b9e9f63",
   "metadata": {
    "jupyter": {
     "source_hidden": true
    }
   },
   "outputs": [],
   "source": [
    "def calculate_alpha_diversity(df, according_to):\n",
    "    \"\"\"\n",
    "    计算群落的α多样性指数=\n",
    "    参数:\n",
    "        df: 包含物种数据的DataFrame\n",
    "        according_to: 用于计算多样性的列名\n",
    "        \n",
    "    返回:\n",
    "        包含多样性指数的字典\n",
    "    \"\"\"\n",
    "    # 检查输入数据\n",
    "    if according_to not in df.columns:\n",
    "        raise ValueError(f\"数据框中缺少指定的多度列: {according_to}\")\n",
    "    \n",
    "    # 过滤多度为0的物种\n",
    "    df = df[df[according_to] > 0].copy()\n",
    "    \n",
    "    # 如果过滤后没有物种，返回0值，没出现\n",
    "    # if len(df) == 0:\n",
    "    #     return {\n",
    "    #         '物种丰富度': 0,\n",
    "    #         'Shannon-Wiener指数': 0.0,\n",
    "    #         'Simpson指数': 0.0,\n",
    "    #         'Pielou均匀度指数': 0.0\n",
    "    #     }\n",
    "    \n",
    "    richness = len(df) # 物种丰富度\n",
    "    total_abundance = df[according_to].sum()\n",
    "    relative_abundance = df[according_to] / total_abundance # 相对多度\n",
    "\n",
    "    # 香农，辛普森，均匀度\n",
    "    shannon = -sum(relative_abundance * np.log(relative_abundance))    \n",
    "    simpson = 1 - sum(relative_abundance**2)\n",
    "    \n",
    "    # 计算Pielou均匀度指数 (J')\n",
    "    # 当richness=1时，除零错误哈哈哈哈哈哈哈哈哈哈哈哈哈哈哈哈哈哈哈\n",
    "    if richness == 1:\n",
    "        pielou = 0.0  \n",
    "    else:\n",
    "        pielou = shannon / np.log(richness)\n",
    "    \n",
    "    return {\n",
    "        '物种丰富度': richness,\n",
    "        'Shannon-Wiener指数': shannon,\n",
    "        'Simpson指数': simpson,\n",
    "        'Pielou均匀度指数': pielou\n",
    "    }"
   ]
  },
  {
   "cell_type": "code",
   "execution_count": 18,
   "id": "235e17a5-556b-46aa-91cd-13c2a9ba8c49",
   "metadata": {},
   "outputs": [
    {
     "data": {
      "text/plain": [
       "{'物种丰富度': 6,\n",
       " 'Shannon-Wiener指数': 1.1143827552901853,\n",
       " 'Simpson指数': 0.6026331916241576,\n",
       " 'Pielou均匀度指数': 0.6219488577729105}"
      ]
     },
     "execution_count": 18,
     "metadata": {},
     "output_type": "execute_result"
    }
   ],
   "source": [
    "alpha_diversity_exmaple = calculate_alpha_diversity(lwj_5, '干重(g/m2)')\n",
    "alpha_diversity_exmaple"
   ]
  },
  {
   "cell_type": "markdown",
   "id": "f6d8a426-628f-44f0-8d31-8bba5370b138",
   "metadata": {},
   "source": [
    "### 批处理：用一个字典存储不同样地不同月份间的数据"
   ]
  },
  {
   "cell_type": "code",
   "execution_count": 20,
   "id": "b2c2b64d-fbb2-4e65-95dd-71b3c8c81125",
   "metadata": {},
   "outputs": [],
   "source": [
    "data_dict = {\n",
    "    '刘武井群落':{5:lwj_5, 6:lwj_6, 7:lwj_7, 8:lwj_8, 9:lwj_9, 10:lwj_10},\n",
    "    '香山台地群落':{5:xstd_5, 6:xstd_6, 7:xstd_7, 8:xstd_8, 9:xstd_9, 10:xstd_10},\n",
    "    '天井山群落':{5:tjs_5, 6:tjs_6, 7:tjs_7, 8:tjs_8, 9:tjs_9, 10:tjs_10},\n",
    "    '同场堡群落':{5:tcb_5, 6:tcb_6, 7:tcb_7, 8:tcb_8, 9:tcb_9, 10:tcb_10},\n",
    "    '月牙湾群落':{5:yyw_5, 6:yyw_6, 7:yyw_7, 8:yyw_8, 9:yyw_9, 10:yyw_10},\n",
    "    '朱家圈群落':{5:zjq_5, 6:zjq_6, 7:zjq_7, 8:zjq_8, 9:zjq_9, 10:zjq_10},\n",
    "}"
   ]
  },
  {
   "cell_type": "markdown",
   "id": "8e2c3609-fb33-4f44-a612-34b98d7d4f2b",
   "metadata": {},
   "source": [
    "### 批处理\n",
    "- 以每个样地、每个月份作为列名（其实这样的数据并不规范，注释中的才是合理的一个索引对应一个变量那种，但是合理不代表好画图）\n",
    "- 向空列表中添加样地和月份\n",
    "- 调用calculate_alpha_diversity函数得到alpha多样性，并将四个结果都展开"
   ]
  },
  {
   "cell_type": "code",
   "execution_count": 22,
   "id": "66c95e93-7667-4835-9acb-dad45b19af56",
   "metadata": {
    "jupyter": {
     "source_hidden": true
    }
   },
   "outputs": [],
   "source": [
    "import pandas as pd\n",
    "from itertools import product\n",
    "\n",
    "def batch_calculate_alpha(data_dict, according_to):\n",
    "    \"\"\"\n",
    "    批量计算所有样地和月份的α多样性\n",
    "    \n",
    "    参数:\n",
    "        data_dict: 嵌套字典 {样地: {月份: DataFrame}}\n",
    "        according_to: 用于计算的多度列名\n",
    "    \n",
    "    返回:\n",
    "        DataFrame格式的汇总结果\n",
    "    \"\"\"\n",
    "    results = []\n",
    "    print(f'{according_to}作为计算依据')\n",
    "    # 遍历所有样地和月份组合\n",
    "    for site in data_dict:\n",
    "        for month in data_dict[site]:\n",
    "            df = data_dict[site][month]\n",
    "            try:\n",
    "                alpha = calculate_alpha_diversity(df, according_to)\n",
    "                results.append({\n",
    "                    # '样地与月份': f'{site}{month}月',\n",
    "                    '样地': site,\n",
    "                    '月份': month,\n",
    "                    **alpha  # 展开\n",
    "                })\n",
    "        \n",
    "            except Exception as e:\n",
    "                print(f\"计算失败：样地={site}, 月份={month}, 错误={str(e)}\")\n",
    "\n",
    "    # results = pd.DataFrame(results).set_index('样地与月份')\n",
    "    results = pd.DataFrame(results)\n",
    "    return results, according_to\n",
    "\n"
   ]
  },
  {
   "cell_type": "code",
   "execution_count": 23,
   "id": "c0ee7715-1952-4db6-bd2c-83ee6e7a2f01",
   "metadata": {},
   "outputs": [
    {
     "name": "stdout",
     "output_type": "stream",
     "text": [
      "多度(个/m2)作为计算依据\n"
     ]
    },
    {
     "data": {
      "text/html": [
       "<div>\n",
       "<style scoped>\n",
       "    .dataframe tbody tr th:only-of-type {\n",
       "        vertical-align: middle;\n",
       "    }\n",
       "\n",
       "    .dataframe tbody tr th {\n",
       "        vertical-align: top;\n",
       "    }\n",
       "\n",
       "    .dataframe thead th {\n",
       "        text-align: right;\n",
       "    }\n",
       "</style>\n",
       "<table border=\"1\" class=\"dataframe\">\n",
       "  <thead>\n",
       "    <tr style=\"text-align: right;\">\n",
       "      <th></th>\n",
       "      <th>样地</th>\n",
       "      <th>月份</th>\n",
       "      <th>物种丰富度</th>\n",
       "      <th>Shannon-Wiener指数</th>\n",
       "      <th>Simpson指数</th>\n",
       "      <th>Pielou均匀度指数</th>\n",
       "    </tr>\n",
       "  </thead>\n",
       "  <tbody>\n",
       "    <tr>\n",
       "      <th>0</th>\n",
       "      <td>刘武井群落</td>\n",
       "      <td>5</td>\n",
       "      <td>10</td>\n",
       "      <td>1.61</td>\n",
       "      <td>0.76</td>\n",
       "      <td>0.70</td>\n",
       "    </tr>\n",
       "    <tr>\n",
       "      <th>1</th>\n",
       "      <td>刘武井群落</td>\n",
       "      <td>6</td>\n",
       "      <td>13</td>\n",
       "      <td>1.91</td>\n",
       "      <td>0.80</td>\n",
       "      <td>0.75</td>\n",
       "    </tr>\n",
       "    <tr>\n",
       "      <th>2</th>\n",
       "      <td>刘武井群落</td>\n",
       "      <td>7</td>\n",
       "      <td>15</td>\n",
       "      <td>2.24</td>\n",
       "      <td>0.86</td>\n",
       "      <td>0.83</td>\n",
       "    </tr>\n",
       "    <tr>\n",
       "      <th>3</th>\n",
       "      <td>刘武井群落</td>\n",
       "      <td>8</td>\n",
       "      <td>13</td>\n",
       "      <td>1.81</td>\n",
       "      <td>0.78</td>\n",
       "      <td>0.71</td>\n",
       "    </tr>\n",
       "    <tr>\n",
       "      <th>4</th>\n",
       "      <td>刘武井群落</td>\n",
       "      <td>9</td>\n",
       "      <td>17</td>\n",
       "      <td>2.13</td>\n",
       "      <td>0.81</td>\n",
       "      <td>0.75</td>\n",
       "    </tr>\n",
       "  </tbody>\n",
       "</table>\n",
       "</div>"
      ],
      "text/plain": [
       "      样地  月份  物种丰富度  Shannon-Wiener指数  Simpson指数  Pielou均匀度指数\n",
       "0  刘武井群落   5     10              1.61       0.76         0.70\n",
       "1  刘武井群落   6     13              1.91       0.80         0.75\n",
       "2  刘武井群落   7     15              2.24       0.86         0.83\n",
       "3  刘武井群落   8     13              1.81       0.78         0.71\n",
       "4  刘武井群落   9     17              2.13       0.81         0.75"
      ]
     },
     "execution_count": 23,
     "metadata": {},
     "output_type": "execute_result"
    }
   ],
   "source": [
    "results_df, according_to = batch_calculate_alpha(data_dict, '多度(个/m2)')\n",
    "results_df.head()"
   ]
  },
  {
   "cell_type": "markdown",
   "id": "5458643e-17cf-4e28-832a-32b26c9616b9",
   "metadata": {},
   "source": [
    "### 画出不同样地不同月份之间的α多样性指数"
   ]
  },
  {
   "cell_type": "code",
   "execution_count": 25,
   "id": "0f5e2e22-76d6-4b42-81da-e581204734ad",
   "metadata": {
    "jupyter": {
     "source_hidden": true
    }
   },
   "outputs": [],
   "source": [
    "import os\n",
    "import pandas as pd\n",
    "import matplotlib.pyplot as plt\n",
    "import seaborn as sns\n",
    "from pathlib import Path"
   ]
  },
  {
   "cell_type": "markdown",
   "id": "d7633a56-3812-41d3-a26b-2cbb98073630",
   "metadata": {},
   "source": [
    "### 全局宋体"
   ]
  },
  {
   "cell_type": "code",
   "execution_count": 27,
   "id": "81978292-f2f0-4d61-9e3d-4a12c680136d",
   "metadata": {
    "jupyter": {
     "source_hidden": true
    }
   },
   "outputs": [],
   "source": [
    "plt.rcParams['font.sans-serif'] = ['Simsun']"
   ]
  },
  {
   "cell_type": "markdown",
   "id": "514573eb-1c61-4f23-92f1-f606d510c486",
   "metadata": {},
   "source": [
    "### 下面两格废案"
   ]
  },
  {
   "cell_type": "code",
   "execution_count": 29,
   "id": "dde679bc-4c77-456c-b1c4-40460f13a68d",
   "metadata": {
    "jupyter": {
     "source_hidden": true
    }
   },
   "outputs": [],
   "source": [
    "# def plt_figure(x, y, according_to, save_dir, save_name):\n",
    "#     plt.figure(figsize=(12, 6))\n",
    "#     sns.lineplot(\n",
    "#         data=results_df,\n",
    "#         x=x,\n",
    "#         y=y,\n",
    "#         hue=\"样地\",        # 按样地分组着色\n",
    "#         style=\"样地\",      # 按样地分组线型\n",
    "#         markers=True,      # 显示标记\n",
    "#         markersize=8,      # 标记大小\n",
    "#         palette=\"tab10\",   # 颜色方案\n",
    "#         linewidth=1.5      # 线条粗细\n",
    "#     )\n",
    "    \n",
    "#     # 图例与标签\n",
    "#     plt.title(f\"不同样地{y}月变化\", fontsize=14)\n",
    "#     plt.xlabel(x, fontsize=12)\n",
    "#     plt.ylabel(y, fontsize=12)\n",
    "#     plt.xticks(range(5, 11))  # 固定月份刻度\n",
    "    \n",
    "#     # 图例跑到中间了\n",
    "#     plt.legend(\n",
    "#         title=f\"以{according_to}作为计算依据\",\n",
    "#         bbox_to_anchor=(1.05, 1),  # 右侧偏移坐标\n",
    "#         loc=\"upper left\",          # 定位基准点\n",
    "#         borderaxespad=0.           # 边距\n",
    "#     )\n",
    "    \n",
    "#     plt.tight_layout()\n",
    "\n",
    "\n",
    "#     if save_dir is not None:  \n",
    "#     # 创建目录如果不存在  \n",
    "#         os.makedirs(save_dir, exist_ok=True)  \n",
    "#         # 保存图片  \n",
    "#         plt.savefig(os.path.join(save_dir, f\"{save_name}.png\"), dpi=300, bbox_inches=\"tight\")  \n",
    "\n",
    "#     plt.show()"
   ]
  },
  {
   "cell_type": "code",
   "execution_count": 30,
   "id": "c8750a19-e743-41d4-bcce-f1b768ed8290",
   "metadata": {
    "jupyter": {
     "source_hidden": true
    }
   },
   "outputs": [],
   "source": [
    "# plt_figure(\"月份\", \"物种丰富度\", according_to, \"./figures/\", \"不同样地物种丰富度月变化（多度）\")\n",
    "# plt_figure(\"月份\", \"Shannon-Wiener指数\", according_to, \"./figures/\", \"不同样地Shannon-Wiener指数月变化（多度）\")\n",
    "# plt_figure(\"月份\", \"Simpson指数\", according_to, \"./figures/\", \"不同样地Simpson指数月变化（多度）\")\n",
    "# plt_figure(\"月份\", \"Pielou均匀度指数\", according_to, \"./figures/\", \"不同样地Pielou均匀度指数月变化（多度）\")"
   ]
  },
  {
   "cell_type": "markdown",
   "id": "8c045a98-d93e-4fa3-aa65-ae397a642594",
   "metadata": {},
   "source": [
    "### 箱线图（以多度为依据）"
   ]
  },
  {
   "cell_type": "code",
   "execution_count": 32,
   "id": "d3dab15b-9f05-4785-a9af-104415ea723d",
   "metadata": {
    "jupyter": {
     "source_hidden": true
    }
   },
   "outputs": [],
   "source": [
    "# def plot_alpha_diversity_boxplot(df, \n",
    "#                                 metric,\n",
    "#                                 output_dir=\"./结果图表\",\n",
    "#                                 palette=\"Set3\",\n",
    "#                                 figsize=(10, 6)):\n",
    "#     \"\"\"\n",
    "#     绘制不同群落的α多样性箱线图\n",
    "    \n",
    "#     参数:\n",
    "#         df (DataFrame): 包含样地、月份和多样性指标的数据框\n",
    "#         metric (str): 要分析的指标名称，默认为\"Shannon-Wiener指数\"\n",
    "#         output_dir (str): 图片保存目录，默认为\"./结果图表\"\n",
    "#         palette (str): 颜色方案名称，默认为\"Set3\"\n",
    "#         figsize (tuple): 图片尺寸，默认为(10,6)\n",
    "#     \"\"\"\n",
    "\n",
    "    \n",
    "#     # 创建保存目录\n",
    "#     Path(output_dir).mkdir(parents=True, exist_ok=True)\n",
    "    \n",
    "#     # 初始化画布\n",
    "#     plt.figure(figsize=figsize)\n",
    "    \n",
    "#     # 绘制箱线图\n",
    "#     ax = sns.boxplot(\n",
    "#         x=\"样地\",\n",
    "#         y=metric,\n",
    "#         data=df,\n",
    "#         palette=palette,\n",
    "#         hue='样地',\n",
    "#         width=0.6,\n",
    "#         linewidth=1,\n",
    "#         flierprops={\"marker\": \"o\", \"markersize\": 4},\n",
    "#     )\n",
    "    \n",
    "#     # 叠加散点显示数据分布\n",
    "#     sns.stripplot(\n",
    "#         x=\"样地\",\n",
    "#         y=metric,\n",
    "#         data=df,\n",
    "#         color=\".25\",\n",
    "#         size=4,\n",
    "#         jitter=0.2\n",
    "#     )\n",
    "    \n",
    "#     # 设置标签和标题\n",
    "#     plt.title(f\"不同群落{metric}分布\", fontsize=14, pad=20)\n",
    "#     plt.xlabel(\"群落名称\", fontsize=12)\n",
    "#     plt.ylabel(metric, fontsize=12)\n",
    "    \n",
    "#     # 旋转x轴标签\n",
    "#     plt.xticks(rotation=45, ha='right')\n",
    "    \n",
    "#     # 自动调整布局\n",
    "#     plt.tight_layout()\n",
    "    \n",
    "#     # 生成文件名\n",
    "#     timestamp = pd.Timestamp.now().strftime(\"%Y%m%d_%H%M\")\n",
    "#     filename = f\"{metric}_箱线图_{timestamp}.png\"\n",
    "    \n",
    "#     # 保存图片\n",
    "#     plt.savefig(\n",
    "#         Path(output_dir) / filename,\n",
    "#         dpi=300,\n",
    "#         bbox_inches=\"tight\"\n",
    "#     )\n",
    "    \n",
    "#     plt.close()"
   ]
  },
  {
   "cell_type": "code",
   "execution_count": 33,
   "id": "73a590b4-e53e-4422-a914-a0ed35cc405c",
   "metadata": {},
   "outputs": [],
   "source": [
    "# plot_alpha_diversity_boxplot(\n",
    "#     df=results_df,\n",
    "#     metric=\"物种丰富度\",\n",
    "#     output_dir=\"./生态分析结果/多样性箱线图\",\n",
    "#     palette=\"Pastel1\",\n",
    "#     figsize=(12, 7)\n",
    "# )\n",
    "\n",
    "# plot_alpha_diversity_boxplot(\n",
    "#     df=results_df,\n",
    "#     metric=\"Shannon-Wiener指数\",\n",
    "#     output_dir=\"./生态分析结果/多样性箱线图\",\n",
    "#     palette=\"Pastel1\",\n",
    "#     figsize=(12, 7)\n",
    "# )\n",
    "\n",
    "# plot_alpha_diversity_boxplot(\n",
    "#     df=results_df,\n",
    "#     metric=\"Simpson指数\",\n",
    "#     output_dir=\"./生态分析结果/多样性箱线图\",\n",
    "#     palette=\"Pastel1\",\n",
    "#     figsize=(12, 7)\n",
    "# )\n",
    "\n",
    "# plot_alpha_diversity_boxplot(\n",
    "#     df=results_df,\n",
    "#     metric=\"Pielou均匀度指数\",\n",
    "#     output_dir=\"./生态分析结果/多样性箱线图\",\n",
    "#     palette=\"Pastel1\",\n",
    "#     figsize=(12, 7)\n",
    "# )"
   ]
  },
  {
   "cell_type": "markdown",
   "id": "025e40bd-a2e1-40ac-8fb6-652b66ff9e18",
   "metadata": {},
   "source": [
    "### β多样性"
   ]
  },
  {
   "cell_type": "code",
   "execution_count": 35,
   "id": "53a9b30c-2e14-4d2b-816b-489cd8f11dd5",
   "metadata": {},
   "outputs": [],
   "source": [
    "def load_month_data(data_dict, month):\n",
    "\n",
    "    # 提取月份10的所有群落数据\n",
    "    community_names = list(data_dict.keys())\n",
    "    samples = []\n",
    "    \n",
    "    for community in data_dict:\n",
    "        df = data_dict[community][month] \n",
    "        df.reset_index(inplace=True)\n",
    "        abundance = df.set_index(\"物种名称\")[\"多度(个/m2)\"].to_dict()\n",
    "        samples.append(abundance)\n",
    "    \n",
    "    # 转换为样本×物种的矩阵\n",
    "    matrix = pd.DataFrame(samples, index=community_names).fillna(0)\n",
    "    species_matrix = matrix.values\n",
    "    \n",
    "    def bray_curtis(u, v):\n",
    "        # 计算分子：两样本共有物种的最小值之和\n",
    "        min_sum = np.minimum(u, v).sum()\n",
    "        # 计算分母：两样本总丰度之和\n",
    "        total_sum = u.sum() + v.sum()\n",
    "        # 避免除以零（如果两样本总丰度均为0，则相异性为0）\n",
    "        return 1 - (2 * min_sum / total_sum) if total_sum != 0 else 0\n",
    "    \n",
    "    # 计算所有样本对的相异性矩阵\n",
    "    n_samples = len(community_names)\n",
    "    bc_matrix = np.zeros((n_samples, n_samples))\n",
    "    \n",
    "    for i in range(n_samples):\n",
    "        for j in range(n_samples):\n",
    "            bc_matrix[i, j] = bray_curtis(species_matrix[i], species_matrix[j])\n",
    "    \n",
    "    # 转换为带标签的DataFrame\n",
    "    matrix = pd.DataFrame(bc_matrix, index=community_names, columns=community_names)\n",
    "\n",
    "    return matrix"
   ]
  },
  {
   "cell_type": "code",
   "execution_count": 36,
   "id": "e29d2ec9-a5fa-48a3-ac1c-85ddc7a84ca9",
   "metadata": {},
   "outputs": [
    {
     "data": {
      "text/html": [
       "<div>\n",
       "<style scoped>\n",
       "    .dataframe tbody tr th:only-of-type {\n",
       "        vertical-align: middle;\n",
       "    }\n",
       "\n",
       "    .dataframe tbody tr th {\n",
       "        vertical-align: top;\n",
       "    }\n",
       "\n",
       "    .dataframe thead th {\n",
       "        text-align: right;\n",
       "    }\n",
       "</style>\n",
       "<table border=\"1\" class=\"dataframe\">\n",
       "  <thead>\n",
       "    <tr style=\"text-align: right;\">\n",
       "      <th></th>\n",
       "      <th>刘武井群落</th>\n",
       "      <th>香山台地群落</th>\n",
       "      <th>天井山群落</th>\n",
       "      <th>同场堡群落</th>\n",
       "      <th>月牙湾群落</th>\n",
       "      <th>朱家圈群落</th>\n",
       "    </tr>\n",
       "  </thead>\n",
       "  <tbody>\n",
       "    <tr>\n",
       "      <th>刘武井群落</th>\n",
       "      <td>0.00</td>\n",
       "      <td>0.96</td>\n",
       "      <td>0.72</td>\n",
       "      <td>0.62</td>\n",
       "      <td>0.71</td>\n",
       "      <td>0.62</td>\n",
       "    </tr>\n",
       "    <tr>\n",
       "      <th>香山台地群落</th>\n",
       "      <td>0.96</td>\n",
       "      <td>0.00</td>\n",
       "      <td>0.82</td>\n",
       "      <td>0.87</td>\n",
       "      <td>0.74</td>\n",
       "      <td>0.89</td>\n",
       "    </tr>\n",
       "    <tr>\n",
       "      <th>天井山群落</th>\n",
       "      <td>0.72</td>\n",
       "      <td>0.82</td>\n",
       "      <td>0.00</td>\n",
       "      <td>0.82</td>\n",
       "      <td>0.84</td>\n",
       "      <td>0.91</td>\n",
       "    </tr>\n",
       "    <tr>\n",
       "      <th>同场堡群落</th>\n",
       "      <td>0.62</td>\n",
       "      <td>0.87</td>\n",
       "      <td>0.82</td>\n",
       "      <td>0.00</td>\n",
       "      <td>0.32</td>\n",
       "      <td>0.95</td>\n",
       "    </tr>\n",
       "    <tr>\n",
       "      <th>月牙湾群落</th>\n",
       "      <td>0.71</td>\n",
       "      <td>0.74</td>\n",
       "      <td>0.84</td>\n",
       "      <td>0.32</td>\n",
       "      <td>0.00</td>\n",
       "      <td>0.89</td>\n",
       "    </tr>\n",
       "    <tr>\n",
       "      <th>朱家圈群落</th>\n",
       "      <td>0.62</td>\n",
       "      <td>0.89</td>\n",
       "      <td>0.91</td>\n",
       "      <td>0.95</td>\n",
       "      <td>0.89</td>\n",
       "      <td>0.00</td>\n",
       "    </tr>\n",
       "  </tbody>\n",
       "</table>\n",
       "</div>"
      ],
      "text/plain": [
       "        刘武井群落  香山台地群落  天井山群落  同场堡群落  月牙湾群落  朱家圈群落\n",
       "刘武井群落    0.00    0.96   0.72   0.62   0.71   0.62\n",
       "香山台地群落   0.96    0.00   0.82   0.87   0.74   0.89\n",
       "天井山群落    0.72    0.82   0.00   0.82   0.84   0.91\n",
       "同场堡群落    0.62    0.87   0.82   0.00   0.32   0.95\n",
       "月牙湾群落    0.71    0.74   0.84   0.32   0.00   0.89\n",
       "朱家圈群落    0.62    0.89   0.91   0.95   0.89   0.00"
      ]
     },
     "execution_count": 36,
     "metadata": {},
     "output_type": "execute_result"
    }
   ],
   "source": [
    "load_month_data(data_dict, 6)"
   ]
  },
  {
   "cell_type": "code",
   "execution_count": 37,
   "id": "fc6d9aff-9426-456c-b71a-95d1cf9576fd",
   "metadata": {
    "jupyter": {
     "source_hidden": true
    }
   },
   "outputs": [],
   "source": [
    "def plot_heatmap(matrix, title=\"热力图\", save_path=None, figsize=(10,8), \n",
    "                cmap=\"YlGnBu\", annot=True, fmt=\".2f\", dpi=300):\n",
    "    \"\"\"\n",
    "    绘制并保存相异性矩阵热力图\n",
    "    参数：\n",
    "    matrix: pd.DataFrame 相异性矩阵\n",
    "    title: 图片标题\n",
    "    save_path: 图片保存路径（默认不保存）\n",
    "    figsize: 图片尺寸\n",
    "    cmap: 颜色映射\n",
    "    annot: 是否显示数值\n",
    "    fmt: 数值格式\n",
    "    dpi: 输出分辨率\n",
    "    \"\"\"\n",
    "    plt.figure(figsize=figsize)\n",
    "    ax = sns.heatmap(\n",
    "        matrix,\n",
    "        annot=annot,\n",
    "        cmap=cmap,\n",
    "        fmt=fmt,\n",
    "        linewidths=0.5,\n",
    "        cbar_kws={\"label\": \"Bray-Curtis相异性\"}\n",
    "    )\n",
    "    ax.set_title(title)\n",
    "    plt.xticks(rotation=45)\n",
    "    plt.yticks(rotation=0)\n",
    "    \n",
    "    if save_path:\n",
    "        dir_path = os.path.dirname(save_path)\n",
    "        if dir_path and not os.path.exists(dir_path):\n",
    "            os.makedirs(dir_path)\n",
    "        plt.savefig(save_path, bbox_inches=\"tight\", dpi=dpi)\n",
    "        print(f\"图片已保存至：{os.path.abspath(save_path)}\")\n",
    "    plt.show()\n",
    "    plt.close()"
   ]
  },
  {
   "cell_type": "code",
   "execution_count": 38,
   "id": "c09e262d-a67c-4225-82a1-f5c5964fd128",
   "metadata": {
    "jupyter": {
     "source_hidden": true
    }
   },
   "outputs": [],
   "source": [
    "def plot_clustermap(matrix, title=\"聚类热力图\", save_path=None, \n",
    "                   figsize=(12,10), cmap=\"YlGnBu\", annot=True, fmt=\".2f\", \n",
    "                   row_cluster=True, col_cluster=True, dpi=300):\n",
    "    \"\"\"\n",
    "    绘制并保存聚类热力图\n",
    "    参数：\n",
    "    matrix: pd.DataFrame 相异性矩阵\n",
    "    title: 图片标题\n",
    "    save_path: 图片保存路径（默认不保存）\n",
    "    figsize: 图片尺寸\n",
    "    cmap: 颜色映射\n",
    "    annot: 是否显示数值\n",
    "    fmt: 数值格式\n",
    "    row/col_cluster: 是否对行列聚类\n",
    "    dpi: 输出分辨率\n",
    "    \"\"\"\n",
    "    g = sns.clustermap(\n",
    "        matrix,\n",
    "        cmap=cmap,\n",
    "        annot=annot,\n",
    "        fmt=fmt,\n",
    "        figsize=figsize,\n",
    "        row_cluster=row_cluster,\n",
    "        col_cluster=col_cluster\n",
    "    )\n",
    "    g.ax_heatmap.set_xlabel(\"\")\n",
    "    g.ax_heatmap.set_ylabel(\"\")\n",
    "    plt.suptitle(title, y=1.02)\n",
    "    \n",
    "    if save_path:\n",
    "        dir_path = os.path.dirname(save_path)\n",
    "        if dir_path and not os.path.exists(dir_path):\n",
    "            os.makedirs(dir_path)\n",
    "        g.savefig(save_path, bbox_inches=\"tight\", dpi=dpi)\n",
    "        print(f\"图片已保存至：{os.path.abspath(save_path)}\")\n",
    "    plt.show()\n",
    "    plt.close()"
   ]
  },
  {
   "cell_type": "code",
   "execution_count": 39,
   "id": "aaf4ce34-9389-4980-8763-c9cf26b6c718",
   "metadata": {},
   "outputs": [],
   "source": [
    "# for month in [5,6,7,8,9,10]:\n",
    "#     matrix = load_month_data(data_dict, month)  # 自定义数据加载函数\n",
    "#     matrix_mean = \n",
    "#     plot_heatmap(matrix, title=f\"{month}月群落β多样性热力图\", save_path=f\"./results/month_{month}.png\")\n",
    "\n",
    "n_samples = len(data_dict.keys())  # 假设所有月份的样地数量相同  \n",
    "average_matrix = np.zeros((n_samples, n_samples)) \n",
    "\n",
    "for month in [5, 6, 7, 8, 9, 10]:  \n",
    "    matrix = load_month_data(data_dict, month)  \n",
    "    average_matrix += matrix  \n",
    "average_matrix /= 6  \n",
    "    "
   ]
  },
  {
   "cell_type": "code",
   "execution_count": 72,
   "id": "e6bd3566-4765-448a-8526-bb4a5538c022",
   "metadata": {},
   "outputs": [
    {
     "name": "stdout",
     "output_type": "stream",
     "text": [
      "图片已保存至：D:\\John\\生态学\\生物多样性指数计算\\results\\heatmap.png\n"
     ]
    },
    {
     "data": {
      "image/png": "[encoded data removed]",
      "text/plain": [
       "<Figure size 1000x800 with 2 Axes>"
      ]
     },
     "metadata": {},
     "output_type": "display_data"
    },
    {
     "name": "stderr",
     "output_type": "stream",
     "text": [
      "C:\\ProgramData\\anaconda3\\Lib\\site-packages\\seaborn\\matrix.py:530: ClusterWarning: The symmetric non-negative hollow observation matrix looks suspiciously like an uncondensed distance matrix\n",
      "  linkage = hierarchy.linkage(self.array, method=self.method,\n",
      "C:\\ProgramData\\anaconda3\\Lib\\site-packages\\seaborn\\matrix.py:530: ClusterWarning: The symmetric non-negative hollow observation matrix looks suspiciously like an uncondensed distance matrix\n",
      "  linkage = hierarchy.linkage(self.array, method=self.method,\n"
     ]
    },
    {
     "name": "stdout",
     "output_type": "stream",
     "text": [
      "图片已保存至：D:\\John\\生态学\\生物多样性指数计算\\results\\clustermap.pdf\n"
     ]
    },
    {
     "data": {
      "image/png": "[encoded data removed]",
      "text/plain": [
       "<Figure size 1200x1000 with 4 Axes>"
      ]
     },
     "metadata": {},
     "output_type": "display_data"
    }
   ],
   "source": [
    "plot_heatmap(\n",
    "    average_matrix,\n",
    "    title=\"月平均群落β多样性热力图\",\n",
    "    save_path=\"./results/heatmap.png\",  # 自动创建results目录\n",
    "    cmap=\"coolwarm\"\n",
    ")\n",
    "\n",
    "plot_clustermap(\n",
    "    average_matrix,\n",
    "    title=\"月平均群落聚类分析\",\n",
    "    save_path=\"./results/clustermap.pdf\",  # 支持PDF格式\n",
    "    figsize=(12,10),\n",
    "    cmap=\"viridis\"\n",
    ")"
   ]
  },
  {
   "cell_type": "code",
   "execution_count": 41,
   "id": "d0aa9233-58a7-4c85-bef0-53bad6af8980",
   "metadata": {},
   "outputs": [
    {
     "data": {
      "text/html": [
       "<div>\n",
       "<style scoped>\n",
       "    .dataframe tbody tr th:only-of-type {\n",
       "        vertical-align: middle;\n",
       "    }\n",
       "\n",
       "    .dataframe tbody tr th {\n",
       "        vertical-align: top;\n",
       "    }\n",
       "\n",
       "    .dataframe thead th {\n",
       "        text-align: right;\n",
       "    }\n",
       "</style>\n",
       "<table border=\"1\" class=\"dataframe\">\n",
       "  <thead>\n",
       "    <tr style=\"text-align: right;\">\n",
       "      <th></th>\n",
       "      <th>刘武井群落</th>\n",
       "      <th>香山台地群落</th>\n",
       "      <th>天井山群落</th>\n",
       "      <th>同场堡群落</th>\n",
       "      <th>月牙湾群落</th>\n",
       "      <th>朱家圈群落</th>\n",
       "    </tr>\n",
       "  </thead>\n",
       "  <tbody>\n",
       "    <tr>\n",
       "      <th>刘武井群落</th>\n",
       "      <td>0.00</td>\n",
       "      <td>0.94</td>\n",
       "      <td>0.55</td>\n",
       "      <td>0.86</td>\n",
       "      <td>0.81</td>\n",
       "      <td>0.80</td>\n",
       "    </tr>\n",
       "    <tr>\n",
       "      <th>香山台地群落</th>\n",
       "      <td>0.94</td>\n",
       "      <td>0.00</td>\n",
       "      <td>0.89</td>\n",
       "      <td>0.94</td>\n",
       "      <td>0.89</td>\n",
       "      <td>0.93</td>\n",
       "    </tr>\n",
       "    <tr>\n",
       "      <th>天井山群落</th>\n",
       "      <td>0.55</td>\n",
       "      <td>0.89</td>\n",
       "      <td>0.00</td>\n",
       "      <td>0.88</td>\n",
       "      <td>0.82</td>\n",
       "      <td>0.90</td>\n",
       "    </tr>\n",
       "    <tr>\n",
       "      <th>同场堡群落</th>\n",
       "      <td>0.86</td>\n",
       "      <td>0.94</td>\n",
       "      <td>0.88</td>\n",
       "      <td>0.00</td>\n",
       "      <td>0.52</td>\n",
       "      <td>0.96</td>\n",
       "    </tr>\n",
       "    <tr>\n",
       "      <th>月牙湾群落</th>\n",
       "      <td>0.81</td>\n",
       "      <td>0.89</td>\n",
       "      <td>0.82</td>\n",
       "      <td>0.52</td>\n",
       "      <td>0.00</td>\n",
       "      <td>0.86</td>\n",
       "    </tr>\n",
       "    <tr>\n",
       "      <th>朱家圈群落</th>\n",
       "      <td>0.80</td>\n",
       "      <td>0.93</td>\n",
       "      <td>0.90</td>\n",
       "      <td>0.96</td>\n",
       "      <td>0.86</td>\n",
       "      <td>0.00</td>\n",
       "    </tr>\n",
       "  </tbody>\n",
       "</table>\n",
       "</div>"
      ],
      "text/plain": [
       "        刘武井群落  香山台地群落  天井山群落  同场堡群落  月牙湾群落  朱家圈群落\n",
       "刘武井群落    0.00    0.94   0.55   0.86   0.81   0.80\n",
       "香山台地群落   0.94    0.00   0.89   0.94   0.89   0.93\n",
       "天井山群落    0.55    0.89   0.00   0.88   0.82   0.90\n",
       "同场堡群落    0.86    0.94   0.88   0.00   0.52   0.96\n",
       "月牙湾群落    0.81    0.89   0.82   0.52   0.00   0.86\n",
       "朱家圈群落    0.80    0.93   0.90   0.96   0.86   0.00"
      ]
     },
     "execution_count": 41,
     "metadata": {},
     "output_type": "execute_result"
    }
   ],
   "source": [
    "average_matrix"
   ]
  }
 ],
 "metadata": {
  "kernelspec": {
   "display_name": "Python 3 (ipykernel)",
   "language": "python",
   "name": "python3"
  },
  "language_info": {
   "codemirror_mode": {
    "name": "ipython",
    "version": 3
   },
   "file_extension": ".py",
   "mimetype": "text/x-python",
   "name": "python",
   "nbconvert_exporter": "python",
   "pygments_lexer": "ipython3",
   "version": "3.12.7"
  }
 },
 "nbformat": 4,
 "nbformat_minor": 5
}
